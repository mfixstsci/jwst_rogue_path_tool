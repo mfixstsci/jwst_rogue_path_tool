{
 "cells": [
  {
   "cell_type": "markdown",
   "id": "9662bb29",
   "metadata": {},
   "source": [
    "# Demo the tool that checks for the presence of bright stars in the Claws susceptibility region"
   ]
  },
  {
   "cell_type": "markdown",
   "id": "bc3be642",
   "metadata": {},
   "source": [
    "## Imports"
   ]
  },
  {
   "cell_type": "code",
   "execution_count": 1,
   "id": "83a873d2",
   "metadata": {},
   "outputs": [
    {
     "name": "stderr",
     "output_type": "stream",
     "text": [
      "**WARNING**: LOCAL JWST PRD VERSION PRDOPSSOC-062 CANNOT BE CHECKED AGAINST ONLINE VERSION\n"
     ]
    }
   ],
   "source": [
    "import pandas as pd\n",
    "import matplotlib.pyplot as plt\n",
    "import numpy as np\n",
    "from pysiaf.utils import rotations\n",
    "import matplotlib.patches as patches\n",
    "from claws_tool import apt_program, compute_line\n",
    "from apt_sql import Sqlfile\n",
    "import pysiaf\n",
    "from matplotlib.path import Path\n",
    "import os\n",
    "\n",
    "import warnings\n",
    "warnings.filterwarnings('ignore')\n",
    "\n",
    "%matplotlib notebook"
   ]
  },
  {
   "cell_type": "markdown",
   "id": "92a54902",
   "metadata": {},
   "source": [
    "## Common catalog defintions"
   ]
  },
  {
   "cell_type": "code",
   "execution_count": 6,
   "id": "0e65901d",
   "metadata": {},
   "outputs": [],
   "source": [
    "catargsSIMBAD={'inner_rad':8.,'outer_rad':12.,'sourcecat':'SIMBAD',\n",
    "                                       'band':'K','maxmag':4.,'simbad_timeout':200,'verbose':True}\n",
    "catargs2MASS={'inner_rad':8.,'outer_rad':12.,'sourcecat':'2MASS','2MASS_filename':'/Users/mfix/Desktop/sandbox/jwst_rogue_path_tool/Data/TwoMassForMario_km5.csv',\n",
    "                                       'band':'k_m','maxmag':4,'verbose':True}"
   ]
  },
  {
   "cell_type": "markdown",
   "id": "c5480a0e",
   "metadata": {},
   "source": [
    "## First use case: review a program for potential presence of claws at any orientation"
   ]
  },
  {
   "cell_type": "markdown",
   "id": "6ff52793",
   "metadata": {},
   "source": [
    "### Create a program object (ingests and parses an APT sql file)"
   ]
  },
  {
   "cell_type": "code",
   "execution_count": 7,
   "id": "64610226",
   "metadata": {},
   "outputs": [],
   "source": [
    "filename = '/Users/mfix/Desktop/sandbox/jwst_rogue_path_tool/APT_demo_file/Demo_apt.sql'\n",
    "program = apt_program(filename)"
   ]
  },
  {
   "cell_type": "markdown",
   "id": "814b2732",
   "metadata": {},
   "source": [
    "### Define properties of the catalog query"
   ]
  },
  {
   "cell_type": "markdown",
   "id": "74f49dd6",
   "metadata": {},
   "source": [
    "### Select which observations to test (use None to test all the observations)"
   ]
  },
  {
   "cell_type": "code",
   "execution_count": 8,
   "id": "7f947ccc",
   "metadata": {},
   "outputs": [],
   "source": [
    "obsids = [2,3]"
   ]
  },
  {
   "cell_type": "markdown",
   "id": "2c84b89e",
   "metadata": {},
   "source": [
    "#### First ingest the observations and get their corresponding catalog"
   ]
  },
  {
   "cell_type": "code",
   "execution_count": 9,
   "id": "c0140991",
   "metadata": {},
   "outputs": [
    {
     "name": "stdout",
     "output_type": "stream",
     "text": [
      "Adding obsid: 2\n",
      "Total number of NIRCAM exposures in this observation: 6\n",
      "Total number of NIRCAM exposure specifications: 3\n",
      "Total number of visits: 3\n",
      "Adopted inner and outer radius 7.963386910783606 12.036613089216395\n"
     ]
    },
    {
     "ename": "UnitTypeError",
     "evalue": "Angle instances require units equivalent to 'rad', but no unit was given.",
     "output_type": "error",
     "traceback": [
      "\u001b[0;31m---------------------------------------------------------------------------\u001b[0m",
      "\u001b[0;31mUnitTypeError\u001b[0m                             Traceback (most recent call last)",
      "Cell \u001b[0;32mIn[9], line 1\u001b[0m\n\u001b[0;32m----> 1\u001b[0m \u001b[43mprogram\u001b[49m\u001b[38;5;241;43m.\u001b[39;49m\u001b[43madd_observations\u001b[49m\u001b[43m(\u001b[49m\u001b[43mobsids\u001b[49m\u001b[38;5;241;43m=\u001b[39;49m\u001b[43mobsids\u001b[49m\u001b[43m,\u001b[49m\u001b[43m \u001b[49m\u001b[43mcatargs\u001b[49m\u001b[38;5;241;43m=\u001b[39;49m\u001b[43mcatargs2MASS\u001b[49m\u001b[43m,\u001b[49m\u001b[43m \u001b[49m\u001b[43msmallregion\u001b[49m\u001b[38;5;241;43m=\u001b[39;49m\u001b[38;5;28;43;01mFalse\u001b[39;49;00m\u001b[43m)\u001b[49m\n",
      "File \u001b[0;32m~/Desktop/sandbox/jwst_rogue_path_tool/claws_tool.py:237\u001b[0m, in \u001b[0;36mapt_program.add_observations\u001b[0;34m(self, obsids, catargs, smallregion)\u001b[0m\n\u001b[1;32m    235\u001b[0m         \u001b[38;5;28;01mbreak\u001b[39;00m\n\u001b[1;32m    236\u001b[0m \u001b[38;5;28;01mif\u001b[39;00m added \u001b[38;5;241m==\u001b[39m \u001b[38;5;28;01mFalse\u001b[39;00m:\n\u001b[0;32m--> 237\u001b[0m     obshere \u001b[38;5;241m=\u001b[39m \u001b[38;5;28;43mself\u001b[39;49m\u001b[38;5;241;43m.\u001b[39;49m\u001b[43mconfigure_observation\u001b[49m\u001b[43m(\u001b[49m\u001b[43mobsid\u001b[49m\u001b[43m,\u001b[49m\u001b[43mcatargs\u001b[49m\u001b[43m,\u001b[49m\u001b[43msmallregion\u001b[49m\u001b[38;5;241;43m=\u001b[39;49m\u001b[43msmallregion\u001b[49m\u001b[43m)\u001b[49m\n\u001b[1;32m    238\u001b[0m     \u001b[38;5;28;01mif\u001b[39;00m obshere \u001b[38;5;129;01mis\u001b[39;00m \u001b[38;5;129;01mnot\u001b[39;00m \u001b[38;5;28;01mNone\u001b[39;00m:\n\u001b[1;32m    239\u001b[0m         \u001b[38;5;28mself\u001b[39m\u001b[38;5;241m.\u001b[39mobservations\u001b[38;5;241m.\u001b[39mappend(obshere)\n",
      "File \u001b[0;32m~/Desktop/sandbox/jwst_rogue_path_tool/claws_tool.py:209\u001b[0m, in \u001b[0;36mapt_program.configure_observation\u001b[0;34m(self, obsid, catargs, smallregion, nes)\u001b[0m\n\u001b[1;32m    206\u001b[0m target_ra  \u001b[38;5;241m=\u001b[39m \u001b[38;5;28mself\u001b[39m\u001b[38;5;241m.\u001b[39mtargtable\u001b[38;5;241m.\u001b[39mloc[targetrowidx,\u001b[38;5;124m'\u001b[39m\u001b[38;5;124mra_computed\u001b[39m\u001b[38;5;124m'\u001b[39m]\u001b[38;5;241m.\u001b[39mvalues[\u001b[38;5;241m0\u001b[39m]\n\u001b[1;32m    207\u001b[0m target_dec \u001b[38;5;241m=\u001b[39m \u001b[38;5;28mself\u001b[39m\u001b[38;5;241m.\u001b[39mtargtable\u001b[38;5;241m.\u001b[39mloc[targetrowidx,\u001b[38;5;124m'\u001b[39m\u001b[38;5;124mdec_computed\u001b[39m\u001b[38;5;124m'\u001b[39m]\u001b[38;5;241m.\u001b[39mvalues[\u001b[38;5;241m0\u001b[39m]\n\u001b[0;32m--> 209\u001b[0m \u001b[38;5;28;01mreturn\u001b[39;00m \u001b[43mobservation\u001b[49m\u001b[43m(\u001b[49m\u001b[43mexptable_obs\u001b[49m\u001b[43m,\u001b[49m\u001b[43mnestable_obs\u001b[49m\u001b[43m,\u001b[49m\u001b[43mvisittable_obs\u001b[49m\u001b[43m,\u001b[49m\u001b[43mtarget_ra\u001b[49m\u001b[43m,\u001b[49m\u001b[43mtarget_dec\u001b[49m\u001b[43m,\u001b[49m\u001b[43mmodules\u001b[49m\u001b[43m,\u001b[49m\u001b[43mcatargs\u001b[49m\u001b[43m,\u001b[49m\u001b[38;5;28;43mself\u001b[39;49m\u001b[38;5;241;43m.\u001b[39;49m\u001b[43msiaf\u001b[49m\u001b[43m,\u001b[49m\u001b[43msmallregion\u001b[49m\u001b[38;5;241;43m=\u001b[39;49m\u001b[43msmallregion\u001b[49m\u001b[43m)\u001b[49m\n",
      "File \u001b[0;32m~/Desktop/sandbox/jwst_rogue_path_tool/claws_tool.py:322\u001b[0m, in \u001b[0;36mobservation.__init__\u001b[0;34m(self, exptable_obs, nestable_obs, visittable_obs, target_ra, target_dec, modules, catargs, siaf, smallregion)\u001b[0m\n\u001b[1;32m    320\u001b[0m \u001b[38;5;28mself\u001b[39m\u001b[38;5;241m.\u001b[39mSRlist,\u001b[38;5;28mself\u001b[39m\u001b[38;5;241m.\u001b[39mSRnames \u001b[38;5;241m=\u001b[39m \u001b[38;5;28mself\u001b[39m\u001b[38;5;241m.\u001b[39mget_SRlist()\n\u001b[1;32m    321\u001b[0m \u001b[38;5;28mself\u001b[39m\u001b[38;5;241m.\u001b[39mefs \u001b[38;5;241m=\u001b[39m \u001b[38;5;28mself\u001b[39m\u001b[38;5;241m.\u001b[39mget_exposure_frames(siaf)\n\u001b[0;32m--> 322\u001b[0m \u001b[38;5;28mself\u001b[39m\u001b[38;5;241m.\u001b[39mcatdf \u001b[38;5;241m=\u001b[39m \u001b[38;5;28;43mself\u001b[39;49m\u001b[38;5;241;43m.\u001b[39;49m\u001b[43mget_catalog\u001b[49m\u001b[43m(\u001b[49m\u001b[43m)\u001b[49m\n",
      "File \u001b[0;32m~/Desktop/sandbox/jwst_rogue_path_tool/claws_tool.py:419\u001b[0m, in \u001b[0;36mobservation.get_catalog\u001b[0;34m(self)\u001b[0m\n\u001b[1;32m    416\u001b[0m df \u001b[38;5;241m=\u001b[39m df[BM]\n\u001b[1;32m    418\u001b[0m c1 \u001b[38;5;241m=\u001b[39m SkyCoord(\u001b[38;5;28mself\u001b[39m\u001b[38;5;241m.\u001b[39mtarget_ra\u001b[38;5;241m*\u001b[39mu\u001b[38;5;241m.\u001b[39mdeg, \u001b[38;5;28mself\u001b[39m\u001b[38;5;241m.\u001b[39mtarget_dec\u001b[38;5;241m*\u001b[39mu\u001b[38;5;241m.\u001b[39mdeg, frame\u001b[38;5;241m=\u001b[39m\u001b[38;5;124m'\u001b[39m\u001b[38;5;124micrs\u001b[39m\u001b[38;5;124m'\u001b[39m)\n\u001b[0;32m--> 419\u001b[0m c2 \u001b[38;5;241m=\u001b[39m \u001b[43mSkyCoord\u001b[49m\u001b[43m(\u001b[49m\u001b[43mdf\u001b[49m\u001b[43m[\u001b[49m\u001b[38;5;124;43m'\u001b[39;49m\u001b[38;5;124;43mra\u001b[39;49m\u001b[38;5;124;43m'\u001b[39;49m\u001b[43m]\u001b[49m\u001b[38;5;241;43m*\u001b[39;49m\u001b[43mu\u001b[49m\u001b[38;5;241;43m.\u001b[39;49m\u001b[43mdeg\u001b[49m\u001b[43m,\u001b[49m\u001b[43m \u001b[49m\u001b[43mdf\u001b[49m\u001b[43m[\u001b[49m\u001b[38;5;124;43m'\u001b[39;49m\u001b[38;5;124;43mdec\u001b[39;49m\u001b[38;5;124;43m'\u001b[39;49m\u001b[43m]\u001b[49m\u001b[38;5;241;43m*\u001b[39;49m\u001b[43mu\u001b[49m\u001b[38;5;241;43m.\u001b[39;49m\u001b[43mdeg\u001b[49m\u001b[43m,\u001b[49m\u001b[43m \u001b[49m\u001b[43mframe\u001b[49m\u001b[38;5;241;43m=\u001b[39;49m\u001b[38;5;124;43m'\u001b[39;49m\u001b[38;5;124;43micrs\u001b[39;49m\u001b[38;5;124;43m'\u001b[39;49m\u001b[43m)\u001b[49m\n\u001b[1;32m    420\u001b[0m sep \u001b[38;5;241m=\u001b[39m c1\u001b[38;5;241m.\u001b[39mseparation(c2)\n\u001b[1;32m    421\u001b[0m BM \u001b[38;5;241m=\u001b[39m (sep\u001b[38;5;241m.\u001b[39mdeg \u001b[38;5;241m<\u001b[39m outer_rad) \u001b[38;5;241m&\u001b[39m (sep\u001b[38;5;241m.\u001b[39mdeg \u001b[38;5;241m>\u001b[39m inner_rad)\n",
      "File \u001b[0;32m~/miniconda3/envs/jwst-rogue-path/lib/python3.11/site-packages/astropy/coordinates/sky_coordinate.py:339\u001b[0m, in \u001b[0;36mSkyCoord.__init__\u001b[0;34m(self, copy, *args, **kwargs)\u001b[0m\n\u001b[1;32m    335\u001b[0m \u001b[38;5;66;03m# Parse the args and kwargs to assemble a sanitized and validated\u001b[39;00m\n\u001b[1;32m    336\u001b[0m \u001b[38;5;66;03m# kwargs dict for initializing attributes for this object and for\u001b[39;00m\n\u001b[1;32m    337\u001b[0m \u001b[38;5;66;03m# creating the internal self._sky_coord_frame object\u001b[39;00m\n\u001b[1;32m    338\u001b[0m args \u001b[38;5;241m=\u001b[39m \u001b[38;5;28mlist\u001b[39m(args)  \u001b[38;5;66;03m# Make it mutable\u001b[39;00m\n\u001b[0;32m--> 339\u001b[0m skycoord_kwargs, components, info \u001b[38;5;241m=\u001b[39m \u001b[43m_parse_coordinate_data\u001b[49m\u001b[43m(\u001b[49m\n\u001b[1;32m    340\u001b[0m \u001b[43m    \u001b[49m\u001b[43mframe_cls\u001b[49m\u001b[43m(\u001b[49m\u001b[38;5;241;43m*\u001b[39;49m\u001b[38;5;241;43m*\u001b[39;49m\u001b[43mframe_kwargs\u001b[49m\u001b[43m)\u001b[49m\u001b[43m,\u001b[49m\u001b[43m \u001b[49m\u001b[43margs\u001b[49m\u001b[43m,\u001b[49m\u001b[43m \u001b[49m\u001b[43mkwargs\u001b[49m\n\u001b[1;32m    341\u001b[0m \u001b[43m\u001b[49m\u001b[43m)\u001b[49m\n\u001b[1;32m    343\u001b[0m \u001b[38;5;66;03m# In the above two parsing functions, these kwargs were identified\u001b[39;00m\n\u001b[1;32m    344\u001b[0m \u001b[38;5;66;03m# as valid frame attributes for *some* frame, but not the frame that\u001b[39;00m\n\u001b[1;32m    345\u001b[0m \u001b[38;5;66;03m# this SkyCoord will have. We keep these attributes as special\u001b[39;00m\n\u001b[1;32m    346\u001b[0m \u001b[38;5;66;03m# skycoord frame attributes:\u001b[39;00m\n\u001b[1;32m    347\u001b[0m \u001b[38;5;28;01mfor\u001b[39;00m attr \u001b[38;5;129;01min\u001b[39;00m skycoord_kwargs:\n\u001b[1;32m    348\u001b[0m     \u001b[38;5;66;03m# Setting it will also validate it.\u001b[39;00m\n",
      "File \u001b[0;32m~/miniconda3/envs/jwst-rogue-path/lib/python3.11/site-packages/astropy/coordinates/sky_coordinate_parsers.py:313\u001b[0m, in \u001b[0;36m_parse_coordinate_data\u001b[0;34m(frame, args, kwargs)\u001b[0m\n\u001b[1;32m    309\u001b[0m     \u001b[38;5;28;01mfor\u001b[39;00m arg, frame_attr_name, repr_attr_name, unit \u001b[38;5;129;01min\u001b[39;00m \u001b[38;5;28mzip\u001b[39m(\n\u001b[1;32m    310\u001b[0m         args, frame_attr_names, repr_attr_names, units\n\u001b[1;32m    311\u001b[0m     ):\n\u001b[1;32m    312\u001b[0m         attr_class \u001b[38;5;241m=\u001b[39m frame\u001b[38;5;241m.\u001b[39mrepresentation_type\u001b[38;5;241m.\u001b[39mattr_classes[repr_attr_name]\n\u001b[0;32m--> 313\u001b[0m         _components[frame_attr_name] \u001b[38;5;241m=\u001b[39m \u001b[43mattr_class\u001b[49m\u001b[43m(\u001b[49m\u001b[43marg\u001b[49m\u001b[43m,\u001b[49m\u001b[43m \u001b[49m\u001b[43munit\u001b[49m\u001b[38;5;241;43m=\u001b[39;49m\u001b[43munit\u001b[49m\u001b[43m)\u001b[49m\n\u001b[1;32m    315\u001b[0m \u001b[38;5;28;01melse\u001b[39;00m:\n\u001b[1;32m    316\u001b[0m     \u001b[38;5;28;01mraise\u001b[39;00m \u001b[38;5;167;01mValueError\u001b[39;00m(\n\u001b[1;32m    317\u001b[0m         \u001b[38;5;124mf\u001b[39m\u001b[38;5;124m\"\u001b[39m\u001b[38;5;124mMust supply no more than three positional arguments, got \u001b[39m\u001b[38;5;132;01m{\u001b[39;00m\u001b[38;5;28mlen\u001b[39m(args)\u001b[38;5;132;01m}\u001b[39;00m\u001b[38;5;124m\"\u001b[39m\n\u001b[1;32m    318\u001b[0m     )\n",
      "File \u001b[0;32m~/miniconda3/envs/jwst-rogue-path/lib/python3.11/site-packages/astropy/coordinates/angles.py:667\u001b[0m, in \u001b[0;36mLongitude.__new__\u001b[0;34m(cls, angle, unit, wrap_angle, **kwargs)\u001b[0m\n\u001b[1;32m    663\u001b[0m \u001b[38;5;28;01mif\u001b[39;00m \u001b[38;5;28misinstance\u001b[39m(angle, Latitude):\n\u001b[1;32m    664\u001b[0m     \u001b[38;5;28;01mraise\u001b[39;00m \u001b[38;5;167;01mTypeError\u001b[39;00m(\n\u001b[1;32m    665\u001b[0m         \u001b[38;5;124m\"\u001b[39m\u001b[38;5;124mA Longitude angle cannot be created from a Latitude angle.\u001b[39m\u001b[38;5;124m\"\u001b[39m\n\u001b[1;32m    666\u001b[0m     )\n\u001b[0;32m--> 667\u001b[0m \u001b[38;5;28mself\u001b[39m \u001b[38;5;241m=\u001b[39m \u001b[38;5;28;43msuper\u001b[39;49m\u001b[43m(\u001b[49m\u001b[43m)\u001b[49m\u001b[38;5;241;43m.\u001b[39;49m\u001b[38;5;21;43m__new__\u001b[39;49m\u001b[43m(\u001b[49m\u001b[38;5;28;43mcls\u001b[39;49m\u001b[43m,\u001b[49m\u001b[43m \u001b[49m\u001b[43mangle\u001b[49m\u001b[43m,\u001b[49m\u001b[43m \u001b[49m\u001b[43munit\u001b[49m\u001b[38;5;241;43m=\u001b[39;49m\u001b[43munit\u001b[49m\u001b[43m,\u001b[49m\u001b[43m \u001b[49m\u001b[38;5;241;43m*\u001b[39;49m\u001b[38;5;241;43m*\u001b[39;49m\u001b[43mkwargs\u001b[49m\u001b[43m)\u001b[49m\n\u001b[1;32m    668\u001b[0m \u001b[38;5;28;01mif\u001b[39;00m wrap_angle \u001b[38;5;129;01mis\u001b[39;00m \u001b[38;5;28;01mNone\u001b[39;00m:\n\u001b[1;32m    669\u001b[0m     wrap_angle \u001b[38;5;241m=\u001b[39m \u001b[38;5;28mgetattr\u001b[39m(angle, \u001b[38;5;124m\"\u001b[39m\u001b[38;5;124mwrap_angle\u001b[39m\u001b[38;5;124m\"\u001b[39m, \u001b[38;5;28mself\u001b[39m\u001b[38;5;241m.\u001b[39m_default_wrap_angle)\n",
      "File \u001b[0;32m~/miniconda3/envs/jwst-rogue-path/lib/python3.11/site-packages/astropy/coordinates/angles.py:140\u001b[0m, in \u001b[0;36mAngle.__new__\u001b[0;34m(cls, angle, unit, dtype, copy, **kwargs)\u001b[0m\n\u001b[1;32m    135\u001b[0m             angle \u001b[38;5;241m=\u001b[39m u\u001b[38;5;241m.\u001b[39mQuantity(angle, angle_unit, copy\u001b[38;5;241m=\u001b[39m\u001b[38;5;28;01mFalse\u001b[39;00m)\n\u001b[1;32m    137\u001b[0m     \u001b[38;5;28;01melif\u001b[39;00m isiterable(angle) \u001b[38;5;129;01mand\u001b[39;00m \u001b[38;5;129;01mnot\u001b[39;00m (\n\u001b[1;32m    138\u001b[0m         \u001b[38;5;28misinstance\u001b[39m(angle, np\u001b[38;5;241m.\u001b[39mndarray) \u001b[38;5;129;01mand\u001b[39;00m angle\u001b[38;5;241m.\u001b[39mdtype\u001b[38;5;241m.\u001b[39mkind \u001b[38;5;129;01mnot\u001b[39;00m \u001b[38;5;129;01min\u001b[39;00m \u001b[38;5;124m\"\u001b[39m\u001b[38;5;124mSUVO\u001b[39m\u001b[38;5;124m\"\u001b[39m\n\u001b[1;32m    139\u001b[0m     ):\n\u001b[0;32m--> 140\u001b[0m         angle \u001b[38;5;241m=\u001b[39m \u001b[43m[\u001b[49m\u001b[43mAngle\u001b[49m\u001b[43m(\u001b[49m\u001b[43mx\u001b[49m\u001b[43m,\u001b[49m\u001b[43m \u001b[49m\u001b[43munit\u001b[49m\u001b[43m,\u001b[49m\u001b[43m \u001b[49m\u001b[43mcopy\u001b[49m\u001b[38;5;241;43m=\u001b[39;49m\u001b[38;5;28;43;01mFalse\u001b[39;49;00m\u001b[43m)\u001b[49m\u001b[43m \u001b[49m\u001b[38;5;28;43;01mfor\u001b[39;49;00m\u001b[43m \u001b[49m\u001b[43mx\u001b[49m\u001b[43m \u001b[49m\u001b[38;5;129;43;01min\u001b[39;49;00m\u001b[43m \u001b[49m\u001b[43mangle\u001b[49m\u001b[43m]\u001b[49m\n\u001b[1;32m    142\u001b[0m \u001b[38;5;28;01mreturn\u001b[39;00m \u001b[38;5;28msuper\u001b[39m()\u001b[38;5;241m.\u001b[39m\u001b[38;5;21m__new__\u001b[39m(\u001b[38;5;28mcls\u001b[39m, angle, unit, dtype\u001b[38;5;241m=\u001b[39mdtype, copy\u001b[38;5;241m=\u001b[39mcopy, \u001b[38;5;241m*\u001b[39m\u001b[38;5;241m*\u001b[39mkwargs)\n",
      "File \u001b[0;32m~/miniconda3/envs/jwst-rogue-path/lib/python3.11/site-packages/astropy/coordinates/angles.py:140\u001b[0m, in \u001b[0;36m<listcomp>\u001b[0;34m(.0)\u001b[0m\n\u001b[1;32m    135\u001b[0m             angle \u001b[38;5;241m=\u001b[39m u\u001b[38;5;241m.\u001b[39mQuantity(angle, angle_unit, copy\u001b[38;5;241m=\u001b[39m\u001b[38;5;28;01mFalse\u001b[39;00m)\n\u001b[1;32m    137\u001b[0m     \u001b[38;5;28;01melif\u001b[39;00m isiterable(angle) \u001b[38;5;129;01mand\u001b[39;00m \u001b[38;5;129;01mnot\u001b[39;00m (\n\u001b[1;32m    138\u001b[0m         \u001b[38;5;28misinstance\u001b[39m(angle, np\u001b[38;5;241m.\u001b[39mndarray) \u001b[38;5;129;01mand\u001b[39;00m angle\u001b[38;5;241m.\u001b[39mdtype\u001b[38;5;241m.\u001b[39mkind \u001b[38;5;129;01mnot\u001b[39;00m \u001b[38;5;129;01min\u001b[39;00m \u001b[38;5;124m\"\u001b[39m\u001b[38;5;124mSUVO\u001b[39m\u001b[38;5;124m\"\u001b[39m\n\u001b[1;32m    139\u001b[0m     ):\n\u001b[0;32m--> 140\u001b[0m         angle \u001b[38;5;241m=\u001b[39m [\u001b[43mAngle\u001b[49m\u001b[43m(\u001b[49m\u001b[43mx\u001b[49m\u001b[43m,\u001b[49m\u001b[43m \u001b[49m\u001b[43munit\u001b[49m\u001b[43m,\u001b[49m\u001b[43m \u001b[49m\u001b[43mcopy\u001b[49m\u001b[38;5;241;43m=\u001b[39;49m\u001b[38;5;28;43;01mFalse\u001b[39;49;00m\u001b[43m)\u001b[49m \u001b[38;5;28;01mfor\u001b[39;00m x \u001b[38;5;129;01min\u001b[39;00m angle]\n\u001b[1;32m    142\u001b[0m \u001b[38;5;28;01mreturn\u001b[39;00m \u001b[38;5;28msuper\u001b[39m()\u001b[38;5;241m.\u001b[39m\u001b[38;5;21m__new__\u001b[39m(\u001b[38;5;28mcls\u001b[39m, angle, unit, dtype\u001b[38;5;241m=\u001b[39mdtype, copy\u001b[38;5;241m=\u001b[39mcopy, \u001b[38;5;241m*\u001b[39m\u001b[38;5;241m*\u001b[39mkwargs)\n",
      "File \u001b[0;32m~/miniconda3/envs/jwst-rogue-path/lib/python3.11/site-packages/astropy/coordinates/angles.py:142\u001b[0m, in \u001b[0;36mAngle.__new__\u001b[0;34m(cls, angle, unit, dtype, copy, **kwargs)\u001b[0m\n\u001b[1;32m    137\u001b[0m     \u001b[38;5;28;01melif\u001b[39;00m isiterable(angle) \u001b[38;5;129;01mand\u001b[39;00m \u001b[38;5;129;01mnot\u001b[39;00m (\n\u001b[1;32m    138\u001b[0m         \u001b[38;5;28misinstance\u001b[39m(angle, np\u001b[38;5;241m.\u001b[39mndarray) \u001b[38;5;129;01mand\u001b[39;00m angle\u001b[38;5;241m.\u001b[39mdtype\u001b[38;5;241m.\u001b[39mkind \u001b[38;5;129;01mnot\u001b[39;00m \u001b[38;5;129;01min\u001b[39;00m \u001b[38;5;124m\"\u001b[39m\u001b[38;5;124mSUVO\u001b[39m\u001b[38;5;124m\"\u001b[39m\n\u001b[1;32m    139\u001b[0m     ):\n\u001b[1;32m    140\u001b[0m         angle \u001b[38;5;241m=\u001b[39m [Angle(x, unit, copy\u001b[38;5;241m=\u001b[39m\u001b[38;5;28;01mFalse\u001b[39;00m) \u001b[38;5;28;01mfor\u001b[39;00m x \u001b[38;5;129;01min\u001b[39;00m angle]\n\u001b[0;32m--> 142\u001b[0m \u001b[38;5;28;01mreturn\u001b[39;00m \u001b[38;5;28;43msuper\u001b[39;49m\u001b[43m(\u001b[49m\u001b[43m)\u001b[49m\u001b[38;5;241;43m.\u001b[39;49m\u001b[38;5;21;43m__new__\u001b[39;49m\u001b[43m(\u001b[49m\u001b[38;5;28;43mcls\u001b[39;49m\u001b[43m,\u001b[49m\u001b[43m \u001b[49m\u001b[43mangle\u001b[49m\u001b[43m,\u001b[49m\u001b[43m \u001b[49m\u001b[43munit\u001b[49m\u001b[43m,\u001b[49m\u001b[43m \u001b[49m\u001b[43mdtype\u001b[49m\u001b[38;5;241;43m=\u001b[39;49m\u001b[43mdtype\u001b[49m\u001b[43m,\u001b[49m\u001b[43m \u001b[49m\u001b[43mcopy\u001b[49m\u001b[38;5;241;43m=\u001b[39;49m\u001b[43mcopy\u001b[49m\u001b[43m,\u001b[49m\u001b[43m \u001b[49m\u001b[38;5;241;43m*\u001b[39;49m\u001b[38;5;241;43m*\u001b[39;49m\u001b[43mkwargs\u001b[49m\u001b[43m)\u001b[49m\n",
      "File \u001b[0;32m~/miniconda3/envs/jwst-rogue-path/lib/python3.11/site-packages/astropy/units/quantity.py:565\u001b[0m, in \u001b[0;36mQuantity.__new__\u001b[0;34m(cls, value, unit, dtype, copy, order, subok, ndmin)\u001b[0m\n\u001b[1;32m    562\u001b[0m         \u001b[38;5;28mcls\u001b[39m \u001b[38;5;241m=\u001b[39m qcls\n\u001b[1;32m    564\u001b[0m value \u001b[38;5;241m=\u001b[39m value\u001b[38;5;241m.\u001b[39mview(\u001b[38;5;28mcls\u001b[39m)\n\u001b[0;32m--> 565\u001b[0m \u001b[43mvalue\u001b[49m\u001b[38;5;241;43m.\u001b[39;49m\u001b[43m_set_unit\u001b[49m\u001b[43m(\u001b[49m\u001b[43mvalue_unit\u001b[49m\u001b[43m)\u001b[49m\n\u001b[1;32m    566\u001b[0m \u001b[38;5;28;01mif\u001b[39;00m unit \u001b[38;5;129;01mis\u001b[39;00m value_unit:\n\u001b[1;32m    567\u001b[0m     \u001b[38;5;28;01mreturn\u001b[39;00m value\n",
      "File \u001b[0;32m~/miniconda3/envs/jwst-rogue-path/lib/python3.11/site-packages/astropy/coordinates/angles.py:163\u001b[0m, in \u001b[0;36mAngle._set_unit\u001b[0;34m(self, unit)\u001b[0m\n\u001b[1;32m    162\u001b[0m \u001b[38;5;28;01mdef\u001b[39;00m \u001b[38;5;21m_set_unit\u001b[39m(\u001b[38;5;28mself\u001b[39m, unit):\n\u001b[0;32m--> 163\u001b[0m     \u001b[38;5;28;43msuper\u001b[39;49m\u001b[43m(\u001b[49m\u001b[43m)\u001b[49m\u001b[38;5;241;43m.\u001b[39;49m\u001b[43m_set_unit\u001b[49m\u001b[43m(\u001b[49m\u001b[38;5;28;43mself\u001b[39;49m\u001b[38;5;241;43m.\u001b[39;49m\u001b[43m_convert_unit_to_angle_unit\u001b[49m\u001b[43m(\u001b[49m\u001b[43munit\u001b[49m\u001b[43m)\u001b[49m\u001b[43m)\u001b[49m\n",
      "File \u001b[0;32m~/miniconda3/envs/jwst-rogue-path/lib/python3.11/site-packages/astropy/units/quantity.py:2121\u001b[0m, in \u001b[0;36mSpecificTypeQuantity._set_unit\u001b[0;34m(self, unit)\u001b[0m\n\u001b[1;32m   2119\u001b[0m \u001b[38;5;28;01mdef\u001b[39;00m \u001b[38;5;21m_set_unit\u001b[39m(\u001b[38;5;28mself\u001b[39m, unit):\n\u001b[1;32m   2120\u001b[0m     \u001b[38;5;28;01mif\u001b[39;00m unit \u001b[38;5;129;01mis\u001b[39;00m \u001b[38;5;28;01mNone\u001b[39;00m \u001b[38;5;129;01mor\u001b[39;00m \u001b[38;5;129;01mnot\u001b[39;00m unit\u001b[38;5;241m.\u001b[39mis_equivalent(\u001b[38;5;28mself\u001b[39m\u001b[38;5;241m.\u001b[39m_equivalent_unit):\n\u001b[0;32m-> 2121\u001b[0m         \u001b[38;5;28;01mraise\u001b[39;00m UnitTypeError(\n\u001b[1;32m   2122\u001b[0m             \u001b[38;5;124m\"\u001b[39m\u001b[38;5;132;01m{}\u001b[39;00m\u001b[38;5;124m instances require units equivalent to \u001b[39m\u001b[38;5;124m'\u001b[39m\u001b[38;5;132;01m{}\u001b[39;00m\u001b[38;5;124m'\u001b[39m\u001b[38;5;124m\"\u001b[39m\u001b[38;5;241m.\u001b[39mformat(\n\u001b[1;32m   2123\u001b[0m                 \u001b[38;5;28mtype\u001b[39m(\u001b[38;5;28mself\u001b[39m)\u001b[38;5;241m.\u001b[39m\u001b[38;5;18m__name__\u001b[39m, \u001b[38;5;28mself\u001b[39m\u001b[38;5;241m.\u001b[39m_equivalent_unit\n\u001b[1;32m   2124\u001b[0m             )\n\u001b[1;32m   2125\u001b[0m             \u001b[38;5;241m+\u001b[39m (\n\u001b[1;32m   2126\u001b[0m                 \u001b[38;5;124m\"\u001b[39m\u001b[38;5;124m, but no unit was given.\u001b[39m\u001b[38;5;124m\"\u001b[39m\n\u001b[1;32m   2127\u001b[0m                 \u001b[38;5;28;01mif\u001b[39;00m unit \u001b[38;5;129;01mis\u001b[39;00m \u001b[38;5;28;01mNone\u001b[39;00m\n\u001b[1;32m   2128\u001b[0m                 \u001b[38;5;28;01melse\u001b[39;00m \u001b[38;5;124mf\u001b[39m\u001b[38;5;124m\"\u001b[39m\u001b[38;5;124m, so cannot set it to \u001b[39m\u001b[38;5;124m'\u001b[39m\u001b[38;5;132;01m{\u001b[39;00munit\u001b[38;5;132;01m}\u001b[39;00m\u001b[38;5;124m'\u001b[39m\u001b[38;5;124m.\u001b[39m\u001b[38;5;124m\"\u001b[39m\n\u001b[1;32m   2129\u001b[0m             )\n\u001b[1;32m   2130\u001b[0m         )\n\u001b[1;32m   2132\u001b[0m     \u001b[38;5;28msuper\u001b[39m()\u001b[38;5;241m.\u001b[39m_set_unit(unit)\n",
      "\u001b[0;31mUnitTypeError\u001b[0m: Angle instances require units equivalent to 'rad', but no unit was given."
     ]
    }
   ],
   "source": [
    "program.add_observations(obsids=obsids, catargs=catargs2MASS, smallregion=False)"
   ]
  },
  {
   "cell_type": "markdown",
   "id": "3d01d871",
   "metadata": {},
   "source": [
    "#### Run the checks on the possible V3PA values"
   ]
  },
  {
   "cell_type": "code",
   "execution_count": 10,
   "id": "c353894c",
   "metadata": {},
   "outputs": [],
   "source": [
    "program.check_observations()"
   ]
  },
  {
   "cell_type": "markdown",
   "id": "357a4561",
   "metadata": {},
   "source": [
    "#### Plot the results"
   ]
  },
  {
   "cell_type": "code",
   "execution_count": 11,
   "id": "bd28a037",
   "metadata": {},
   "outputs": [],
   "source": [
    "for ob in program.observations:\n",
    "    ob.plot_observations_checks()"
   ]
  },
  {
   "cell_type": "markdown",
   "id": "2d61f21e",
   "metadata": {},
   "source": [
    "## Second use case: verify that an assigned PA works well for a yet unexecuted observation"
   ]
  },
  {
   "cell_type": "markdown",
   "id": "822f5a76",
   "metadata": {},
   "source": [
    "### Create a program object (ingests and parses an APT sql file)"
   ]
  },
  {
   "cell_type": "code",
   "execution_count": null,
   "id": "c7669f6a",
   "metadata": {},
   "outputs": [],
   "source": [
    "savedirroot = '/Users/gennaro/Desktop/'\n",
    "PID = '4445'\n",
    "filename = '/Users/gennaro/Desktop/Claws_prediction_tool/APT_sql/PID_{}.sql'.format(PID)\n",
    "program = apt_program(filename)\n",
    "\n",
    "\n",
    "savedir = savedirroot+'PID_'+PID+'/'\n",
    "if os.path.isdir(savedir) ==  False:\n",
    "    os.mkdir(savedir)\n",
    "\n"
   ]
  },
  {
   "cell_type": "markdown",
   "id": "ad260bb8",
   "metadata": {},
   "source": [
    "### Select which observation(s) to check"
   ]
  },
  {
   "cell_type": "code",
   "execution_count": 13,
   "id": "bda7c77c",
   "metadata": {},
   "outputs": [],
   "source": [
    "obsids = [3]"
   ]
  },
  {
   "cell_type": "markdown",
   "id": "dad482f3",
   "metadata": {},
   "source": [
    "### Ingest and check them"
   ]
  },
  {
   "cell_type": "code",
   "execution_count": 14,
   "id": "b13c48b4",
   "metadata": {},
   "outputs": [
    {
     "name": "stdout",
     "output_type": "stream",
     "text": [
      "Adding obsid: 3\n",
      "Total number of NIRCAM exposures in this observation: 4\n",
      "Total number of NIRCAM exposure specifications: 2\n",
      "Total number of visits: 2\n",
      "Adopted inner and outer radius 7.963473984763377 12.036526015236623\n"
     ]
    },
    {
     "ename": "UnitTypeError",
     "evalue": "Angle instances require units equivalent to 'rad', but no unit was given.",
     "output_type": "error",
     "traceback": [
      "\u001b[0;31m---------------------------------------------------------------------------\u001b[0m",
      "\u001b[0;31mUnitTypeError\u001b[0m                             Traceback (most recent call last)",
      "Cell \u001b[0;32mIn[14], line 1\u001b[0m\n\u001b[0;32m----> 1\u001b[0m \u001b[43mprogram\u001b[49m\u001b[38;5;241;43m.\u001b[39;49m\u001b[43madd_observations\u001b[49m\u001b[43m(\u001b[49m\u001b[43mobsids\u001b[49m\u001b[38;5;241;43m=\u001b[39;49m\u001b[43mobsids\u001b[49m\u001b[43m,\u001b[49m\u001b[43mcatargs\u001b[49m\u001b[38;5;241;43m=\u001b[39;49m\u001b[43mcatargs2MASS\u001b[49m\u001b[43m,\u001b[49m\u001b[43msmallregion\u001b[49m\u001b[38;5;241;43m=\u001b[39;49m\u001b[38;5;28;43;01mFalse\u001b[39;49;00m\u001b[43m)\u001b[49m\n\u001b[1;32m      2\u001b[0m program\u001b[38;5;241m.\u001b[39mcheck_observations()\n",
      "File \u001b[0;32m~/Desktop/sandbox/jwst_rogue_path_tool/claws_tool.py:237\u001b[0m, in \u001b[0;36mapt_program.add_observations\u001b[0;34m(self, obsids, catargs, smallregion)\u001b[0m\n\u001b[1;32m    235\u001b[0m         \u001b[38;5;28;01mbreak\u001b[39;00m\n\u001b[1;32m    236\u001b[0m \u001b[38;5;28;01mif\u001b[39;00m added \u001b[38;5;241m==\u001b[39m \u001b[38;5;28;01mFalse\u001b[39;00m:\n\u001b[0;32m--> 237\u001b[0m     obshere \u001b[38;5;241m=\u001b[39m \u001b[38;5;28;43mself\u001b[39;49m\u001b[38;5;241;43m.\u001b[39;49m\u001b[43mconfigure_observation\u001b[49m\u001b[43m(\u001b[49m\u001b[43mobsid\u001b[49m\u001b[43m,\u001b[49m\u001b[43mcatargs\u001b[49m\u001b[43m,\u001b[49m\u001b[43msmallregion\u001b[49m\u001b[38;5;241;43m=\u001b[39;49m\u001b[43msmallregion\u001b[49m\u001b[43m)\u001b[49m\n\u001b[1;32m    238\u001b[0m     \u001b[38;5;28;01mif\u001b[39;00m obshere \u001b[38;5;129;01mis\u001b[39;00m \u001b[38;5;129;01mnot\u001b[39;00m \u001b[38;5;28;01mNone\u001b[39;00m:\n\u001b[1;32m    239\u001b[0m         \u001b[38;5;28mself\u001b[39m\u001b[38;5;241m.\u001b[39mobservations\u001b[38;5;241m.\u001b[39mappend(obshere)\n",
      "File \u001b[0;32m~/Desktop/sandbox/jwst_rogue_path_tool/claws_tool.py:209\u001b[0m, in \u001b[0;36mapt_program.configure_observation\u001b[0;34m(self, obsid, catargs, smallregion, nes)\u001b[0m\n\u001b[1;32m    206\u001b[0m target_ra  \u001b[38;5;241m=\u001b[39m \u001b[38;5;28mself\u001b[39m\u001b[38;5;241m.\u001b[39mtargtable\u001b[38;5;241m.\u001b[39mloc[targetrowidx,\u001b[38;5;124m'\u001b[39m\u001b[38;5;124mra_computed\u001b[39m\u001b[38;5;124m'\u001b[39m]\u001b[38;5;241m.\u001b[39mvalues[\u001b[38;5;241m0\u001b[39m]\n\u001b[1;32m    207\u001b[0m target_dec \u001b[38;5;241m=\u001b[39m \u001b[38;5;28mself\u001b[39m\u001b[38;5;241m.\u001b[39mtargtable\u001b[38;5;241m.\u001b[39mloc[targetrowidx,\u001b[38;5;124m'\u001b[39m\u001b[38;5;124mdec_computed\u001b[39m\u001b[38;5;124m'\u001b[39m]\u001b[38;5;241m.\u001b[39mvalues[\u001b[38;5;241m0\u001b[39m]\n\u001b[0;32m--> 209\u001b[0m \u001b[38;5;28;01mreturn\u001b[39;00m \u001b[43mobservation\u001b[49m\u001b[43m(\u001b[49m\u001b[43mexptable_obs\u001b[49m\u001b[43m,\u001b[49m\u001b[43mnestable_obs\u001b[49m\u001b[43m,\u001b[49m\u001b[43mvisittable_obs\u001b[49m\u001b[43m,\u001b[49m\u001b[43mtarget_ra\u001b[49m\u001b[43m,\u001b[49m\u001b[43mtarget_dec\u001b[49m\u001b[43m,\u001b[49m\u001b[43mmodules\u001b[49m\u001b[43m,\u001b[49m\u001b[43mcatargs\u001b[49m\u001b[43m,\u001b[49m\u001b[38;5;28;43mself\u001b[39;49m\u001b[38;5;241;43m.\u001b[39;49m\u001b[43msiaf\u001b[49m\u001b[43m,\u001b[49m\u001b[43msmallregion\u001b[49m\u001b[38;5;241;43m=\u001b[39;49m\u001b[43msmallregion\u001b[49m\u001b[43m)\u001b[49m\n",
      "File \u001b[0;32m~/Desktop/sandbox/jwst_rogue_path_tool/claws_tool.py:322\u001b[0m, in \u001b[0;36mobservation.__init__\u001b[0;34m(self, exptable_obs, nestable_obs, visittable_obs, target_ra, target_dec, modules, catargs, siaf, smallregion)\u001b[0m\n\u001b[1;32m    320\u001b[0m \u001b[38;5;28mself\u001b[39m\u001b[38;5;241m.\u001b[39mSRlist,\u001b[38;5;28mself\u001b[39m\u001b[38;5;241m.\u001b[39mSRnames \u001b[38;5;241m=\u001b[39m \u001b[38;5;28mself\u001b[39m\u001b[38;5;241m.\u001b[39mget_SRlist()\n\u001b[1;32m    321\u001b[0m \u001b[38;5;28mself\u001b[39m\u001b[38;5;241m.\u001b[39mefs \u001b[38;5;241m=\u001b[39m \u001b[38;5;28mself\u001b[39m\u001b[38;5;241m.\u001b[39mget_exposure_frames(siaf)\n\u001b[0;32m--> 322\u001b[0m \u001b[38;5;28mself\u001b[39m\u001b[38;5;241m.\u001b[39mcatdf \u001b[38;5;241m=\u001b[39m \u001b[38;5;28;43mself\u001b[39;49m\u001b[38;5;241;43m.\u001b[39;49m\u001b[43mget_catalog\u001b[49m\u001b[43m(\u001b[49m\u001b[43m)\u001b[49m\n",
      "File \u001b[0;32m~/Desktop/sandbox/jwst_rogue_path_tool/claws_tool.py:419\u001b[0m, in \u001b[0;36mobservation.get_catalog\u001b[0;34m(self)\u001b[0m\n\u001b[1;32m    416\u001b[0m df \u001b[38;5;241m=\u001b[39m df[BM]\n\u001b[1;32m    418\u001b[0m c1 \u001b[38;5;241m=\u001b[39m SkyCoord(\u001b[38;5;28mself\u001b[39m\u001b[38;5;241m.\u001b[39mtarget_ra\u001b[38;5;241m*\u001b[39mu\u001b[38;5;241m.\u001b[39mdeg, \u001b[38;5;28mself\u001b[39m\u001b[38;5;241m.\u001b[39mtarget_dec\u001b[38;5;241m*\u001b[39mu\u001b[38;5;241m.\u001b[39mdeg, frame\u001b[38;5;241m=\u001b[39m\u001b[38;5;124m'\u001b[39m\u001b[38;5;124micrs\u001b[39m\u001b[38;5;124m'\u001b[39m)\n\u001b[0;32m--> 419\u001b[0m c2 \u001b[38;5;241m=\u001b[39m \u001b[43mSkyCoord\u001b[49m\u001b[43m(\u001b[49m\u001b[43mdf\u001b[49m\u001b[43m[\u001b[49m\u001b[38;5;124;43m'\u001b[39;49m\u001b[38;5;124;43mra\u001b[39;49m\u001b[38;5;124;43m'\u001b[39;49m\u001b[43m]\u001b[49m\u001b[38;5;241;43m*\u001b[39;49m\u001b[43mu\u001b[49m\u001b[38;5;241;43m.\u001b[39;49m\u001b[43mdeg\u001b[49m\u001b[43m,\u001b[49m\u001b[43m \u001b[49m\u001b[43mdf\u001b[49m\u001b[43m[\u001b[49m\u001b[38;5;124;43m'\u001b[39;49m\u001b[38;5;124;43mdec\u001b[39;49m\u001b[38;5;124;43m'\u001b[39;49m\u001b[43m]\u001b[49m\u001b[38;5;241;43m*\u001b[39;49m\u001b[43mu\u001b[49m\u001b[38;5;241;43m.\u001b[39;49m\u001b[43mdeg\u001b[49m\u001b[43m,\u001b[49m\u001b[43m \u001b[49m\u001b[43mframe\u001b[49m\u001b[38;5;241;43m=\u001b[39;49m\u001b[38;5;124;43m'\u001b[39;49m\u001b[38;5;124;43micrs\u001b[39;49m\u001b[38;5;124;43m'\u001b[39;49m\u001b[43m)\u001b[49m\n\u001b[1;32m    420\u001b[0m sep \u001b[38;5;241m=\u001b[39m c1\u001b[38;5;241m.\u001b[39mseparation(c2)\n\u001b[1;32m    421\u001b[0m BM \u001b[38;5;241m=\u001b[39m (sep\u001b[38;5;241m.\u001b[39mdeg \u001b[38;5;241m<\u001b[39m outer_rad) \u001b[38;5;241m&\u001b[39m (sep\u001b[38;5;241m.\u001b[39mdeg \u001b[38;5;241m>\u001b[39m inner_rad)\n",
      "File \u001b[0;32m~/miniconda3/envs/jwst-rogue-path/lib/python3.11/site-packages/astropy/coordinates/sky_coordinate.py:339\u001b[0m, in \u001b[0;36mSkyCoord.__init__\u001b[0;34m(self, copy, *args, **kwargs)\u001b[0m\n\u001b[1;32m    335\u001b[0m \u001b[38;5;66;03m# Parse the args and kwargs to assemble a sanitized and validated\u001b[39;00m\n\u001b[1;32m    336\u001b[0m \u001b[38;5;66;03m# kwargs dict for initializing attributes for this object and for\u001b[39;00m\n\u001b[1;32m    337\u001b[0m \u001b[38;5;66;03m# creating the internal self._sky_coord_frame object\u001b[39;00m\n\u001b[1;32m    338\u001b[0m args \u001b[38;5;241m=\u001b[39m \u001b[38;5;28mlist\u001b[39m(args)  \u001b[38;5;66;03m# Make it mutable\u001b[39;00m\n\u001b[0;32m--> 339\u001b[0m skycoord_kwargs, components, info \u001b[38;5;241m=\u001b[39m \u001b[43m_parse_coordinate_data\u001b[49m\u001b[43m(\u001b[49m\n\u001b[1;32m    340\u001b[0m \u001b[43m    \u001b[49m\u001b[43mframe_cls\u001b[49m\u001b[43m(\u001b[49m\u001b[38;5;241;43m*\u001b[39;49m\u001b[38;5;241;43m*\u001b[39;49m\u001b[43mframe_kwargs\u001b[49m\u001b[43m)\u001b[49m\u001b[43m,\u001b[49m\u001b[43m \u001b[49m\u001b[43margs\u001b[49m\u001b[43m,\u001b[49m\u001b[43m \u001b[49m\u001b[43mkwargs\u001b[49m\n\u001b[1;32m    341\u001b[0m \u001b[43m\u001b[49m\u001b[43m)\u001b[49m\n\u001b[1;32m    343\u001b[0m \u001b[38;5;66;03m# In the above two parsing functions, these kwargs were identified\u001b[39;00m\n\u001b[1;32m    344\u001b[0m \u001b[38;5;66;03m# as valid frame attributes for *some* frame, but not the frame that\u001b[39;00m\n\u001b[1;32m    345\u001b[0m \u001b[38;5;66;03m# this SkyCoord will have. We keep these attributes as special\u001b[39;00m\n\u001b[1;32m    346\u001b[0m \u001b[38;5;66;03m# skycoord frame attributes:\u001b[39;00m\n\u001b[1;32m    347\u001b[0m \u001b[38;5;28;01mfor\u001b[39;00m attr \u001b[38;5;129;01min\u001b[39;00m skycoord_kwargs:\n\u001b[1;32m    348\u001b[0m     \u001b[38;5;66;03m# Setting it will also validate it.\u001b[39;00m\n",
      "File \u001b[0;32m~/miniconda3/envs/jwst-rogue-path/lib/python3.11/site-packages/astropy/coordinates/sky_coordinate_parsers.py:313\u001b[0m, in \u001b[0;36m_parse_coordinate_data\u001b[0;34m(frame, args, kwargs)\u001b[0m\n\u001b[1;32m    309\u001b[0m     \u001b[38;5;28;01mfor\u001b[39;00m arg, frame_attr_name, repr_attr_name, unit \u001b[38;5;129;01min\u001b[39;00m \u001b[38;5;28mzip\u001b[39m(\n\u001b[1;32m    310\u001b[0m         args, frame_attr_names, repr_attr_names, units\n\u001b[1;32m    311\u001b[0m     ):\n\u001b[1;32m    312\u001b[0m         attr_class \u001b[38;5;241m=\u001b[39m frame\u001b[38;5;241m.\u001b[39mrepresentation_type\u001b[38;5;241m.\u001b[39mattr_classes[repr_attr_name]\n\u001b[0;32m--> 313\u001b[0m         _components[frame_attr_name] \u001b[38;5;241m=\u001b[39m \u001b[43mattr_class\u001b[49m\u001b[43m(\u001b[49m\u001b[43marg\u001b[49m\u001b[43m,\u001b[49m\u001b[43m \u001b[49m\u001b[43munit\u001b[49m\u001b[38;5;241;43m=\u001b[39;49m\u001b[43munit\u001b[49m\u001b[43m)\u001b[49m\n\u001b[1;32m    315\u001b[0m \u001b[38;5;28;01melse\u001b[39;00m:\n\u001b[1;32m    316\u001b[0m     \u001b[38;5;28;01mraise\u001b[39;00m \u001b[38;5;167;01mValueError\u001b[39;00m(\n\u001b[1;32m    317\u001b[0m         \u001b[38;5;124mf\u001b[39m\u001b[38;5;124m\"\u001b[39m\u001b[38;5;124mMust supply no more than three positional arguments, got \u001b[39m\u001b[38;5;132;01m{\u001b[39;00m\u001b[38;5;28mlen\u001b[39m(args)\u001b[38;5;132;01m}\u001b[39;00m\u001b[38;5;124m\"\u001b[39m\n\u001b[1;32m    318\u001b[0m     )\n",
      "File \u001b[0;32m~/miniconda3/envs/jwst-rogue-path/lib/python3.11/site-packages/astropy/coordinates/angles.py:667\u001b[0m, in \u001b[0;36mLongitude.__new__\u001b[0;34m(cls, angle, unit, wrap_angle, **kwargs)\u001b[0m\n\u001b[1;32m    663\u001b[0m \u001b[38;5;28;01mif\u001b[39;00m \u001b[38;5;28misinstance\u001b[39m(angle, Latitude):\n\u001b[1;32m    664\u001b[0m     \u001b[38;5;28;01mraise\u001b[39;00m \u001b[38;5;167;01mTypeError\u001b[39;00m(\n\u001b[1;32m    665\u001b[0m         \u001b[38;5;124m\"\u001b[39m\u001b[38;5;124mA Longitude angle cannot be created from a Latitude angle.\u001b[39m\u001b[38;5;124m\"\u001b[39m\n\u001b[1;32m    666\u001b[0m     )\n\u001b[0;32m--> 667\u001b[0m \u001b[38;5;28mself\u001b[39m \u001b[38;5;241m=\u001b[39m \u001b[38;5;28;43msuper\u001b[39;49m\u001b[43m(\u001b[49m\u001b[43m)\u001b[49m\u001b[38;5;241;43m.\u001b[39;49m\u001b[38;5;21;43m__new__\u001b[39;49m\u001b[43m(\u001b[49m\u001b[38;5;28;43mcls\u001b[39;49m\u001b[43m,\u001b[49m\u001b[43m \u001b[49m\u001b[43mangle\u001b[49m\u001b[43m,\u001b[49m\u001b[43m \u001b[49m\u001b[43munit\u001b[49m\u001b[38;5;241;43m=\u001b[39;49m\u001b[43munit\u001b[49m\u001b[43m,\u001b[49m\u001b[43m \u001b[49m\u001b[38;5;241;43m*\u001b[39;49m\u001b[38;5;241;43m*\u001b[39;49m\u001b[43mkwargs\u001b[49m\u001b[43m)\u001b[49m\n\u001b[1;32m    668\u001b[0m \u001b[38;5;28;01mif\u001b[39;00m wrap_angle \u001b[38;5;129;01mis\u001b[39;00m \u001b[38;5;28;01mNone\u001b[39;00m:\n\u001b[1;32m    669\u001b[0m     wrap_angle \u001b[38;5;241m=\u001b[39m \u001b[38;5;28mgetattr\u001b[39m(angle, \u001b[38;5;124m\"\u001b[39m\u001b[38;5;124mwrap_angle\u001b[39m\u001b[38;5;124m\"\u001b[39m, \u001b[38;5;28mself\u001b[39m\u001b[38;5;241m.\u001b[39m_default_wrap_angle)\n",
      "File \u001b[0;32m~/miniconda3/envs/jwst-rogue-path/lib/python3.11/site-packages/astropy/coordinates/angles.py:140\u001b[0m, in \u001b[0;36mAngle.__new__\u001b[0;34m(cls, angle, unit, dtype, copy, **kwargs)\u001b[0m\n\u001b[1;32m    135\u001b[0m             angle \u001b[38;5;241m=\u001b[39m u\u001b[38;5;241m.\u001b[39mQuantity(angle, angle_unit, copy\u001b[38;5;241m=\u001b[39m\u001b[38;5;28;01mFalse\u001b[39;00m)\n\u001b[1;32m    137\u001b[0m     \u001b[38;5;28;01melif\u001b[39;00m isiterable(angle) \u001b[38;5;129;01mand\u001b[39;00m \u001b[38;5;129;01mnot\u001b[39;00m (\n\u001b[1;32m    138\u001b[0m         \u001b[38;5;28misinstance\u001b[39m(angle, np\u001b[38;5;241m.\u001b[39mndarray) \u001b[38;5;129;01mand\u001b[39;00m angle\u001b[38;5;241m.\u001b[39mdtype\u001b[38;5;241m.\u001b[39mkind \u001b[38;5;129;01mnot\u001b[39;00m \u001b[38;5;129;01min\u001b[39;00m \u001b[38;5;124m\"\u001b[39m\u001b[38;5;124mSUVO\u001b[39m\u001b[38;5;124m\"\u001b[39m\n\u001b[1;32m    139\u001b[0m     ):\n\u001b[0;32m--> 140\u001b[0m         angle \u001b[38;5;241m=\u001b[39m \u001b[43m[\u001b[49m\u001b[43mAngle\u001b[49m\u001b[43m(\u001b[49m\u001b[43mx\u001b[49m\u001b[43m,\u001b[49m\u001b[43m \u001b[49m\u001b[43munit\u001b[49m\u001b[43m,\u001b[49m\u001b[43m \u001b[49m\u001b[43mcopy\u001b[49m\u001b[38;5;241;43m=\u001b[39;49m\u001b[38;5;28;43;01mFalse\u001b[39;49;00m\u001b[43m)\u001b[49m\u001b[43m \u001b[49m\u001b[38;5;28;43;01mfor\u001b[39;49;00m\u001b[43m \u001b[49m\u001b[43mx\u001b[49m\u001b[43m \u001b[49m\u001b[38;5;129;43;01min\u001b[39;49;00m\u001b[43m \u001b[49m\u001b[43mangle\u001b[49m\u001b[43m]\u001b[49m\n\u001b[1;32m    142\u001b[0m \u001b[38;5;28;01mreturn\u001b[39;00m \u001b[38;5;28msuper\u001b[39m()\u001b[38;5;241m.\u001b[39m\u001b[38;5;21m__new__\u001b[39m(\u001b[38;5;28mcls\u001b[39m, angle, unit, dtype\u001b[38;5;241m=\u001b[39mdtype, copy\u001b[38;5;241m=\u001b[39mcopy, \u001b[38;5;241m*\u001b[39m\u001b[38;5;241m*\u001b[39mkwargs)\n",
      "File \u001b[0;32m~/miniconda3/envs/jwst-rogue-path/lib/python3.11/site-packages/astropy/coordinates/angles.py:140\u001b[0m, in \u001b[0;36m<listcomp>\u001b[0;34m(.0)\u001b[0m\n\u001b[1;32m    135\u001b[0m             angle \u001b[38;5;241m=\u001b[39m u\u001b[38;5;241m.\u001b[39mQuantity(angle, angle_unit, copy\u001b[38;5;241m=\u001b[39m\u001b[38;5;28;01mFalse\u001b[39;00m)\n\u001b[1;32m    137\u001b[0m     \u001b[38;5;28;01melif\u001b[39;00m isiterable(angle) \u001b[38;5;129;01mand\u001b[39;00m \u001b[38;5;129;01mnot\u001b[39;00m (\n\u001b[1;32m    138\u001b[0m         \u001b[38;5;28misinstance\u001b[39m(angle, np\u001b[38;5;241m.\u001b[39mndarray) \u001b[38;5;129;01mand\u001b[39;00m angle\u001b[38;5;241m.\u001b[39mdtype\u001b[38;5;241m.\u001b[39mkind \u001b[38;5;129;01mnot\u001b[39;00m \u001b[38;5;129;01min\u001b[39;00m \u001b[38;5;124m\"\u001b[39m\u001b[38;5;124mSUVO\u001b[39m\u001b[38;5;124m\"\u001b[39m\n\u001b[1;32m    139\u001b[0m     ):\n\u001b[0;32m--> 140\u001b[0m         angle \u001b[38;5;241m=\u001b[39m [\u001b[43mAngle\u001b[49m\u001b[43m(\u001b[49m\u001b[43mx\u001b[49m\u001b[43m,\u001b[49m\u001b[43m \u001b[49m\u001b[43munit\u001b[49m\u001b[43m,\u001b[49m\u001b[43m \u001b[49m\u001b[43mcopy\u001b[49m\u001b[38;5;241;43m=\u001b[39;49m\u001b[38;5;28;43;01mFalse\u001b[39;49;00m\u001b[43m)\u001b[49m \u001b[38;5;28;01mfor\u001b[39;00m x \u001b[38;5;129;01min\u001b[39;00m angle]\n\u001b[1;32m    142\u001b[0m \u001b[38;5;28;01mreturn\u001b[39;00m \u001b[38;5;28msuper\u001b[39m()\u001b[38;5;241m.\u001b[39m\u001b[38;5;21m__new__\u001b[39m(\u001b[38;5;28mcls\u001b[39m, angle, unit, dtype\u001b[38;5;241m=\u001b[39mdtype, copy\u001b[38;5;241m=\u001b[39mcopy, \u001b[38;5;241m*\u001b[39m\u001b[38;5;241m*\u001b[39mkwargs)\n",
      "File \u001b[0;32m~/miniconda3/envs/jwst-rogue-path/lib/python3.11/site-packages/astropy/coordinates/angles.py:142\u001b[0m, in \u001b[0;36mAngle.__new__\u001b[0;34m(cls, angle, unit, dtype, copy, **kwargs)\u001b[0m\n\u001b[1;32m    137\u001b[0m     \u001b[38;5;28;01melif\u001b[39;00m isiterable(angle) \u001b[38;5;129;01mand\u001b[39;00m \u001b[38;5;129;01mnot\u001b[39;00m (\n\u001b[1;32m    138\u001b[0m         \u001b[38;5;28misinstance\u001b[39m(angle, np\u001b[38;5;241m.\u001b[39mndarray) \u001b[38;5;129;01mand\u001b[39;00m angle\u001b[38;5;241m.\u001b[39mdtype\u001b[38;5;241m.\u001b[39mkind \u001b[38;5;129;01mnot\u001b[39;00m \u001b[38;5;129;01min\u001b[39;00m \u001b[38;5;124m\"\u001b[39m\u001b[38;5;124mSUVO\u001b[39m\u001b[38;5;124m\"\u001b[39m\n\u001b[1;32m    139\u001b[0m     ):\n\u001b[1;32m    140\u001b[0m         angle \u001b[38;5;241m=\u001b[39m [Angle(x, unit, copy\u001b[38;5;241m=\u001b[39m\u001b[38;5;28;01mFalse\u001b[39;00m) \u001b[38;5;28;01mfor\u001b[39;00m x \u001b[38;5;129;01min\u001b[39;00m angle]\n\u001b[0;32m--> 142\u001b[0m \u001b[38;5;28;01mreturn\u001b[39;00m \u001b[38;5;28;43msuper\u001b[39;49m\u001b[43m(\u001b[49m\u001b[43m)\u001b[49m\u001b[38;5;241;43m.\u001b[39;49m\u001b[38;5;21;43m__new__\u001b[39;49m\u001b[43m(\u001b[49m\u001b[38;5;28;43mcls\u001b[39;49m\u001b[43m,\u001b[49m\u001b[43m \u001b[49m\u001b[43mangle\u001b[49m\u001b[43m,\u001b[49m\u001b[43m \u001b[49m\u001b[43munit\u001b[49m\u001b[43m,\u001b[49m\u001b[43m \u001b[49m\u001b[43mdtype\u001b[49m\u001b[38;5;241;43m=\u001b[39;49m\u001b[43mdtype\u001b[49m\u001b[43m,\u001b[49m\u001b[43m \u001b[49m\u001b[43mcopy\u001b[49m\u001b[38;5;241;43m=\u001b[39;49m\u001b[43mcopy\u001b[49m\u001b[43m,\u001b[49m\u001b[43m \u001b[49m\u001b[38;5;241;43m*\u001b[39;49m\u001b[38;5;241;43m*\u001b[39;49m\u001b[43mkwargs\u001b[49m\u001b[43m)\u001b[49m\n",
      "File \u001b[0;32m~/miniconda3/envs/jwst-rogue-path/lib/python3.11/site-packages/astropy/units/quantity.py:565\u001b[0m, in \u001b[0;36mQuantity.__new__\u001b[0;34m(cls, value, unit, dtype, copy, order, subok, ndmin)\u001b[0m\n\u001b[1;32m    562\u001b[0m         \u001b[38;5;28mcls\u001b[39m \u001b[38;5;241m=\u001b[39m qcls\n\u001b[1;32m    564\u001b[0m value \u001b[38;5;241m=\u001b[39m value\u001b[38;5;241m.\u001b[39mview(\u001b[38;5;28mcls\u001b[39m)\n\u001b[0;32m--> 565\u001b[0m \u001b[43mvalue\u001b[49m\u001b[38;5;241;43m.\u001b[39;49m\u001b[43m_set_unit\u001b[49m\u001b[43m(\u001b[49m\u001b[43mvalue_unit\u001b[49m\u001b[43m)\u001b[49m\n\u001b[1;32m    566\u001b[0m \u001b[38;5;28;01mif\u001b[39;00m unit \u001b[38;5;129;01mis\u001b[39;00m value_unit:\n\u001b[1;32m    567\u001b[0m     \u001b[38;5;28;01mreturn\u001b[39;00m value\n",
      "File \u001b[0;32m~/miniconda3/envs/jwst-rogue-path/lib/python3.11/site-packages/astropy/coordinates/angles.py:163\u001b[0m, in \u001b[0;36mAngle._set_unit\u001b[0;34m(self, unit)\u001b[0m\n\u001b[1;32m    162\u001b[0m \u001b[38;5;28;01mdef\u001b[39;00m \u001b[38;5;21m_set_unit\u001b[39m(\u001b[38;5;28mself\u001b[39m, unit):\n\u001b[0;32m--> 163\u001b[0m     \u001b[38;5;28;43msuper\u001b[39;49m\u001b[43m(\u001b[49m\u001b[43m)\u001b[49m\u001b[38;5;241;43m.\u001b[39;49m\u001b[43m_set_unit\u001b[49m\u001b[43m(\u001b[49m\u001b[38;5;28;43mself\u001b[39;49m\u001b[38;5;241;43m.\u001b[39;49m\u001b[43m_convert_unit_to_angle_unit\u001b[49m\u001b[43m(\u001b[49m\u001b[43munit\u001b[49m\u001b[43m)\u001b[49m\u001b[43m)\u001b[49m\n",
      "File \u001b[0;32m~/miniconda3/envs/jwst-rogue-path/lib/python3.11/site-packages/astropy/units/quantity.py:2121\u001b[0m, in \u001b[0;36mSpecificTypeQuantity._set_unit\u001b[0;34m(self, unit)\u001b[0m\n\u001b[1;32m   2119\u001b[0m \u001b[38;5;28;01mdef\u001b[39;00m \u001b[38;5;21m_set_unit\u001b[39m(\u001b[38;5;28mself\u001b[39m, unit):\n\u001b[1;32m   2120\u001b[0m     \u001b[38;5;28;01mif\u001b[39;00m unit \u001b[38;5;129;01mis\u001b[39;00m \u001b[38;5;28;01mNone\u001b[39;00m \u001b[38;5;129;01mor\u001b[39;00m \u001b[38;5;129;01mnot\u001b[39;00m unit\u001b[38;5;241m.\u001b[39mis_equivalent(\u001b[38;5;28mself\u001b[39m\u001b[38;5;241m.\u001b[39m_equivalent_unit):\n\u001b[0;32m-> 2121\u001b[0m         \u001b[38;5;28;01mraise\u001b[39;00m UnitTypeError(\n\u001b[1;32m   2122\u001b[0m             \u001b[38;5;124m\"\u001b[39m\u001b[38;5;132;01m{}\u001b[39;00m\u001b[38;5;124m instances require units equivalent to \u001b[39m\u001b[38;5;124m'\u001b[39m\u001b[38;5;132;01m{}\u001b[39;00m\u001b[38;5;124m'\u001b[39m\u001b[38;5;124m\"\u001b[39m\u001b[38;5;241m.\u001b[39mformat(\n\u001b[1;32m   2123\u001b[0m                 \u001b[38;5;28mtype\u001b[39m(\u001b[38;5;28mself\u001b[39m)\u001b[38;5;241m.\u001b[39m\u001b[38;5;18m__name__\u001b[39m, \u001b[38;5;28mself\u001b[39m\u001b[38;5;241m.\u001b[39m_equivalent_unit\n\u001b[1;32m   2124\u001b[0m             )\n\u001b[1;32m   2125\u001b[0m             \u001b[38;5;241m+\u001b[39m (\n\u001b[1;32m   2126\u001b[0m                 \u001b[38;5;124m\"\u001b[39m\u001b[38;5;124m, but no unit was given.\u001b[39m\u001b[38;5;124m\"\u001b[39m\n\u001b[1;32m   2127\u001b[0m                 \u001b[38;5;28;01mif\u001b[39;00m unit \u001b[38;5;129;01mis\u001b[39;00m \u001b[38;5;28;01mNone\u001b[39;00m\n\u001b[1;32m   2128\u001b[0m                 \u001b[38;5;28;01melse\u001b[39;00m \u001b[38;5;124mf\u001b[39m\u001b[38;5;124m\"\u001b[39m\u001b[38;5;124m, so cannot set it to \u001b[39m\u001b[38;5;124m'\u001b[39m\u001b[38;5;132;01m{\u001b[39;00munit\u001b[38;5;132;01m}\u001b[39;00m\u001b[38;5;124m'\u001b[39m\u001b[38;5;124m.\u001b[39m\u001b[38;5;124m\"\u001b[39m\n\u001b[1;32m   2129\u001b[0m             )\n\u001b[1;32m   2130\u001b[0m         )\n\u001b[1;32m   2132\u001b[0m     \u001b[38;5;28msuper\u001b[39m()\u001b[38;5;241m.\u001b[39m_set_unit(unit)\n",
      "\u001b[0;31mUnitTypeError\u001b[0m: Angle instances require units equivalent to 'rad', but no unit was given."
     ]
    }
   ],
   "source": [
    "program.add_observations(obsids=obsids,catargs=catargs2MASS,smallregion=False)\n",
    "program.check_observations()"
   ]
  },
  {
   "cell_type": "markdown",
   "id": "38d5be21",
   "metadata": {},
   "source": [
    "### Planned V3PA"
   ]
  },
  {
   "cell_type": "code",
   "execution_count": 15,
   "id": "bb63c8e0",
   "metadata": {},
   "outputs": [
    {
     "name": "stdout",
     "output_type": "stream",
     "text": [
      "[159. 161. 163. 165. 167. 169. 171. 173. 175. 177. 179. 181.]\n"
     ]
    }
   ],
   "source": [
    "att = np.linspace(159,181,12)\n",
    "print(att)"
   ]
  },
  {
   "cell_type": "code",
   "execution_count": 16,
   "id": "cdc1662f",
   "metadata": {},
   "outputs": [
    {
     "ename": "IndexError",
     "evalue": "list index out of range",
     "output_type": "error",
     "traceback": [
      "\u001b[0;31m---------------------------------------------------------------------------\u001b[0m",
      "\u001b[0;31mIndexError\u001b[0m                                Traceback (most recent call last)",
      "Cell \u001b[0;32mIn[16], line 4\u001b[0m\n\u001b[1;32m      1\u001b[0m rds \u001b[38;5;241m=\u001b[39m []\n\u001b[1;32m      2\u001b[0m \u001b[38;5;28;01mfor\u001b[39;00m a \u001b[38;5;129;01min\u001b[39;00m att:\n\u001b[0;32m----> 4\u001b[0m     rd \u001b[38;5;241m=\u001b[39m \u001b[43mprogram\u001b[49m\u001b[38;5;241;43m.\u001b[39;49m\u001b[43mobservations\u001b[49m\u001b[43m[\u001b[49m\u001b[38;5;241;43m0\u001b[39;49m\u001b[43m]\u001b[49m\u001b[38;5;241m.\u001b[39mfixed_angle(a,RP_padding\u001b[38;5;241m=\u001b[39m\u001b[38;5;241m0.\u001b[39m,nrows\u001b[38;5;241m=\u001b[39m\u001b[38;5;241m1\u001b[39m,ncols\u001b[38;5;241m=\u001b[39m\u001b[38;5;241m2\u001b[39m,draw_allexp\u001b[38;5;241m=\u001b[39m\u001b[38;5;28;01mFalse\u001b[39;00m,savefilenames\u001b[38;5;241m=\u001b[39m[\u001b[38;5;28;01mNone\u001b[39;00m,\u001b[38;5;124m'\u001b[39m\u001b[38;5;124m/Users/gennaro/Desktop/PID_4445/PID_4445_\u001b[39m\u001b[38;5;132;01m{:6.2f}\u001b[39;00m\u001b[38;5;124m.png\u001b[39m\u001b[38;5;124m'\u001b[39m\u001b[38;5;241m.\u001b[39mformat(a)])\n\u001b[1;32m      5\u001b[0m     rds\u001b[38;5;241m.\u001b[39mappend(rd)\n",
      "\u001b[0;31mIndexError\u001b[0m: list index out of range"
     ]
    }
   ],
   "source": [
    "rds = []\n",
    "for a in att:\n",
    "\n",
    "    rd = program.observations[0].fixed_angle(a,RP_padding=0.,nrows=1,ncols=2,draw_allexp=False,savefilenames=[None,'/Users/gennaro/Desktop/PID_4445/PID_4445_{:6.2f}.png'.format(a)])\n",
    "    rds.append(rd)"
   ]
  },
  {
   "cell_type": "code",
   "execution_count": null,
   "id": "39a4f4c7",
   "metadata": {},
   "outputs": [],
   "source": [
    "#for rd in rds:\n",
    "#    print(rd['V3PA'],rd['totcts_B'])\n",
    "#    display(rd['catalog'].loc[rd['BM_ALL_B'],['RAdeg','DECdeg','k_m','avg_intensity_B','j_m_fict_mag_B','h_m_fict_mag_B','k_m_fict_mag_B']])"
   ]
  },
  {
   "cell_type": "code",
   "execution_count": null,
   "id": "083e86e6",
   "metadata": {},
   "outputs": [],
   "source": [
    "program.observations"
   ]
  },
  {
   "cell_type": "markdown",
   "id": "38321aa9",
   "metadata": {},
   "source": [
    "## Third use case: check an executed program at its fixed V3PA \n",
    "\n",
    "Can be used to see:\n",
    "\n",
    "    - whether we have stars in the susceptibility region for observations that showed claws\n",
    "    - whether we DO NOT have stars in the susceptibility region for observations that DO NOT show claws\n",
    "\n"
   ]
  },
  {
   "cell_type": "markdown",
   "id": "ab41022d",
   "metadata": {},
   "source": [
    "### Subcase A :rely on the observation having been reported as affected by claws (ie the obs is listed in Ben's \"claw_summary.txt\" table)"
   ]
  },
  {
   "cell_type": "markdown",
   "id": "e372295a",
   "metadata": {},
   "source": [
    "#### Read in the claws_summary file\n",
    "\n",
    "This file contains a list of observations that showed claws, and their executed V3PA"
   ]
  },
  {
   "cell_type": "code",
   "execution_count": null,
   "id": "ff514e0e",
   "metadata": {},
   "outputs": [],
   "source": [
    "df_obs_claws = pd.read_csv('/Users/gennaro/Desktop/Claws_prediction_tool/Data/claw_summary.txt',skiprows=2,names=['PID','obs','detector','pa_v3','claws','notes'])\n",
    "df_obs_claws.head(10)"
   ]
  },
  {
   "cell_type": "markdown",
   "id": "6ee0d8a6",
   "metadata": {},
   "source": [
    "##### Pick one of the cases"
   ]
  },
  {
   "cell_type": "code",
   "execution_count": null,
   "id": "874449b8",
   "metadata": {},
   "outputs": [],
   "source": [
    "PID, obsid = 2738, 3\n",
    "BM = (df_obs_claws['PID'] == PID) & (df_obs_claws['obs'] == obsid)\n",
    "df_obs_claws[BM]"
   ]
  },
  {
   "cell_type": "markdown",
   "id": "b8a5ec7a",
   "metadata": {},
   "source": [
    "#### Read in the corresponding SQL file"
   ]
  },
  {
   "cell_type": "code",
   "execution_count": null,
   "id": "a29a4013",
   "metadata": {},
   "outputs": [],
   "source": [
    "filename = '/Users/gennaro/Desktop/Claws_prediction_tool/APT_sql/PID_{}.sql'.format(PID)"
   ]
  },
  {
   "cell_type": "markdown",
   "id": "b84f54aa",
   "metadata": {},
   "source": [
    "#### Create a program object"
   ]
  },
  {
   "cell_type": "code",
   "execution_count": null,
   "id": "80acb1f9",
   "metadata": {},
   "outputs": [],
   "source": [
    "program = apt_program(filename)"
   ]
  },
  {
   "cell_type": "markdown",
   "id": "ca1fc424",
   "metadata": {},
   "source": [
    "#### Add just the affected observation"
   ]
  },
  {
   "cell_type": "code",
   "execution_count": null,
   "id": "a9486408",
   "metadata": {},
   "outputs": [],
   "source": [
    "program.add_observations(obsids=[obsid],catargs=catargs2MASS,smallregion=False)"
   ]
  },
  {
   "cell_type": "markdown",
   "id": "da580738",
   "metadata": {},
   "source": [
    "#### Check the observation"
   ]
  },
  {
   "cell_type": "code",
   "execution_count": null,
   "id": "9a156900",
   "metadata": {},
   "outputs": [],
   "source": [
    "program.check_observations()"
   ]
  },
  {
   "cell_type": "markdown",
   "id": "3ea69510",
   "metadata": {},
   "source": [
    "#### Run some summary diagnostic and get plots and a dataframe with the results"
   ]
  },
  {
   "cell_type": "code",
   "execution_count": null,
   "id": "83c9f8ef",
   "metadata": {},
   "outputs": [],
   "source": [
    "rd = program.observations[0].fixed_angle(df_obs_claws.loc[BM,'pa_v3'].values[0],RP_padding=0.,nrows=2,ncols=3)"
   ]
  },
  {
   "cell_type": "code",
   "execution_count": null,
   "id": "413b1263",
   "metadata": {},
   "outputs": [],
   "source": [
    "rd['catalog'].head()"
   ]
  },
  {
   "cell_type": "code",
   "execution_count": null,
   "id": "8347b822",
   "metadata": {},
   "outputs": [],
   "source": [
    "df_A = rd['catalog'].filter(regex=(\"IN_A_exp*\"))\n",
    "\n",
    "BM_ALL_A = True\n",
    "for c in df_A.columns:\n",
    "    BM_ALL_A &= df_A[c]\n",
    "\n",
    "df_B = rd['catalog'].filter(regex=(\"IN_B_exp*\"))\n",
    "\n",
    "BM_ALL_B = True\n",
    "for c in df_B.columns:\n",
    "    BM_ALL_B &= df_B[c]\n",
    "\n"
   ]
  },
  {
   "cell_type": "markdown",
   "id": "dfd2a6cb",
   "metadata": {},
   "source": [
    "print('Ben table')\n",
    "display(df_obs_claws.loc[BM,['detector','claws','notes']])\n",
    "print(' ')\n",
    "\n",
    "print('Mod A results')\n",
    "display(rd['catalog'].loc[BM_ALL_A,['RAdeg','DECdeg','k_m']])\n",
    "print(' ')\n",
    "\n",
    "print('Mod B results')\n",
    "display(rd['catalog'].loc[BM_ALL_B,['RAdeg','DECdeg','k_m']])\n",
    "print(' ')\n"
   ]
  },
  {
   "cell_type": "markdown",
   "id": "79ca1cb0",
   "metadata": {},
   "source": [
    "### Subcase B : more general, does not rely on the observation being listed in Ben's \"claw_summary.txt\" table"
   ]
  },
  {
   "cell_type": "markdown",
   "id": "6c6470f3",
   "metadata": {},
   "source": [
    "#### Setup PID and obs and v3PA"
   ]
  },
  {
   "cell_type": "code",
   "execution_count": null,
   "id": "158608d1",
   "metadata": {},
   "outputs": [],
   "source": [
    "PID, obsid, pa_v3 = 1181, 98, 133.3177706698362"
   ]
  },
  {
   "cell_type": "markdown",
   "id": "698287c2",
   "metadata": {},
   "source": [
    "#### Read in the corresponding SQL file, setup proram and observation"
   ]
  },
  {
   "cell_type": "code",
   "execution_count": null,
   "id": "98eacbe9",
   "metadata": {},
   "outputs": [],
   "source": [
    "filename = '/Users/gennaro/Desktop/Claws_prediction_tool/APT_sql/PID_{}.sql'.format(PID)\n",
    "program = apt_program(filename)\n",
    "program.add_observations(obsids=[obsid],catargs=catargs2MASS,smallregion=False)"
   ]
  },
  {
   "cell_type": "markdown",
   "id": "d4107bfc",
   "metadata": {},
   "source": [
    "#### Check and run diagnostic for fixed angle"
   ]
  },
  {
   "cell_type": "code",
   "execution_count": null,
   "id": "a5a7460e",
   "metadata": {},
   "outputs": [],
   "source": [
    "program.check_observations()\n",
    "rd = program.observations[0].fixed_angle(pa_v3,RP_padding=0.,nrows=2,ncols=3)"
   ]
  },
  {
   "cell_type": "markdown",
   "id": "e6706821",
   "metadata": {},
   "source": [
    "## Run a detailed sweep in V3 PA on one obs to determne the DN/pix/ks in claws measured on the detector and compare them to the expected background"
   ]
  },
  {
   "cell_type": "markdown",
   "id": "7369240f",
   "metadata": {},
   "source": [
    "### Setup PID and obs and v3PA"
   ]
  },
  {
   "cell_type": "code",
   "execution_count": null,
   "id": "eabb78bf",
   "metadata": {},
   "outputs": [],
   "source": [
    "#PID, obsid, pa_v3 = 1181, 98, 133.3177706698362\n",
    "PID, obsid, pa_v3 = 1187, 35, 94.13"
   ]
  },
  {
   "cell_type": "markdown",
   "id": "488c21a9",
   "metadata": {},
   "source": [
    "### Read in the corresponding SQL file, setup proram and observation"
   ]
  },
  {
   "cell_type": "code",
   "execution_count": null,
   "id": "3469a562",
   "metadata": {},
   "outputs": [],
   "source": [
    "filename = '/Users/gennaro/Desktop/Claws_prediction_tool/APT_sql/PID_{}.sql'.format(PID)\n",
    "program = apt_program(filename)\n",
    "program.add_observations(obsids=[obsid],catargs=catargs2MASS,smallregion=False)"
   ]
  },
  {
   "cell_type": "markdown",
   "id": "61b2223b",
   "metadata": {},
   "source": [
    "### Run the sweep"
   ]
  },
  {
   "cell_type": "code",
   "execution_count": null,
   "id": "a4a92906",
   "metadata": {},
   "outputs": [],
   "source": [
    "tmS,tcS = program.observations[0].DN_report(np.arange(0.,360.,3),RP_padding=0.,draw_reports=True,\n",
    "                                                      background_params=[{'threshold':0.1,'func':np.min},{'threshold':0.2,'func':np.mean}])\n",
    "#,\n",
    "#                                                     save_report_dir='/Users/gennaro/Desktop/testc/',save_figures_dir='/Users/gennaro/Desktop/testc/')\n",
    "#tmA,tmB, tcA, tcB = program.observations[0].DN_report(np.arange(0.,360.,1),RP_padding=0.,draw_reports=True,savefilename=None,\n",
    "#                                                      background_params=[{'threshold':0.1,'func':np.min}])"
   ]
  },
  {
   "cell_type": "code",
   "execution_count": null,
   "id": "e505d99b",
   "metadata": {},
   "outputs": [],
   "source": []
  },
  {
   "cell_type": "code",
   "execution_count": null,
   "id": "c8202c08",
   "metadata": {},
   "outputs": [],
   "source": []
  }
 ],
 "metadata": {
  "kernelspec": {
   "display_name": "Python 3 (ipykernel)",
   "language": "python",
   "name": "python3"
  },
  "language_info": {
   "codemirror_mode": {
    "name": "ipython",
    "version": 3
   },
   "file_extension": ".py",
   "mimetype": "text/x-python",
   "name": "python",
   "nbconvert_exporter": "python",
   "pygments_lexer": "ipython3",
   "version": "3.11.4"
  },
  "toc": {
   "base_numbering": 1,
   "nav_menu": {},
   "number_sections": true,
   "sideBar": true,
   "skip_h1_title": true,
   "title_cell": "Table of Contents",
   "title_sidebar": "Contents",
   "toc_cell": false,
   "toc_position": {
    "height": "calc(100% - 180px)",
    "left": "10px",
    "top": "150px",
    "width": "297.4px"
   },
   "toc_section_display": true,
   "toc_window_display": true
  }
 },
 "nbformat": 4,
 "nbformat_minor": 5
}
